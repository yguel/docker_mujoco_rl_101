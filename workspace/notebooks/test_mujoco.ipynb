{
 "cells": [
  {
   "cell_type": "markdown",
   "id": "e22825fb",
   "metadata": {},
   "source": [
    "# MuJoCo Test Notebook\n",
    "\n",
    "This notebook tests MuJoCo functionality in the Docker environment."
   ]
  },
  {
   "cell_type": "code",
   "execution_count": null,
   "id": "42dc4dd7",
   "metadata": {},
   "outputs": [],
   "source": [
    "# Import required libraries\n",
    "import mujoco\n",
    "import numpy as np\n",
    "import matplotlib.pyplot as plt\n",
    "import os\n",
    "\n",
    "print(f\"MuJoCo version: {mujoco.__version__}\")\n",
    "print(f\"Working directory: {os.getcwd()}\")"
   ]
  },
  {
   "cell_type": "code",
   "execution_count": null,
   "id": "d5a179d7",
   "metadata": {},
   "outputs": [],
   "source": [
    "# Test basic MuJoCo functionality\n",
    "# Create a simple pendulum model\n",
    "xml = \"\"\"\n",
    "<mujoco>\n",
    "  <worldbody>\n",
    "    <body name=\"pendulum\" pos=\"0 0 0\">\n",
    "      <joint name=\"hinge\" type=\"hinge\" axis=\"0 1 0\"/>\n",
    "      <geom name=\"pole\" type=\"capsule\" size=\"0.02 0.5\" rgba=\"0.8 0.2 0.2 1\"/>\n",
    "      <body name=\"mass\" pos=\"0 0 -1\">\n",
    "        <geom name=\"ball\" type=\"sphere\" size=\"0.1\" rgba=\"0.2 0.8 0.2 1\"/>\n",
    "      </body>\n",
    "    </body>\n",
    "  </worldbody>\n",
    "</mujoco>\n",
    "\"\"\"\n",
    "\n",
    "# Create model and data\n",
    "model = mujoco.MjModel.from_xml_string(xml)\n",
    "data = mujoco.MjData(model)\n",
    "\n",
    "print(f\"Model created successfully!\")\n",
    "print(f\"Number of bodies: {model.nbody}\")\n",
    "print(f\"Number of joints: {model.njnt}\")\n",
    "print(f\"Number of DOFs: {model.nv}\")"
   ]
  },
  {
   "cell_type": "code",
   "execution_count": null,
   "id": "d9add969",
   "metadata": {},
   "outputs": [],
   "source": [
    "# Run simulation and collect data\n",
    "n_steps = 1000\n",
    "positions = []\n",
    "velocities = []\n",
    "times = []\n",
    "\n",
    "# Set initial condition\n",
    "data.qpos[0] = np.pi/4  # Initial angle\n",
    "\n",
    "for i in range(n_steps):\n",
    "    mujoco.mj_step(model, data)\n",
    "    positions.append(data.qpos[0])\n",
    "    velocities.append(data.qvel[0])\n",
    "    times.append(data.time)\n",
    "\n",
    "print(f\"Simulation completed: {n_steps} steps\")\n",
    "print(f\"Final time: {data.time:.3f} seconds\")"
   ]
  },
  {
   "cell_type": "code",
   "execution_count": null,
   "id": "a8aadc49",
   "metadata": {},
   "outputs": [],
   "source": [
    "# Plot results\n",
    "fig, (ax1, ax2) = plt.subplots(2, 1, figsize=(10, 8))\n",
    "\n",
    "# Position plot\n",
    "ax1.plot(times, positions, 'b-', linewidth=2)\n",
    "ax1.set_xlabel('Time (s)')\n",
    "ax1.set_ylabel('Position (rad)')\n",
    "ax1.set_title('Pendulum Position vs Time')\n",
    "ax1.grid(True)\n",
    "\n",
    "# Velocity plot\n",
    "ax2.plot(times, velocities, 'r-', linewidth=2)\n",
    "ax2.set_xlabel('Time (s)')\n",
    "ax2.set_ylabel('Velocity (rad/s)')\n",
    "ax2.set_title('Pendulum Velocity vs Time')\n",
    "ax2.grid(True)\n",
    "\n",
    "plt.tight_layout()\n",
    "plt.show()\n",
    "\n",
    "print(\"✅ MuJoCo is working correctly in Jupyter!\")"
   ]
  },
  {
   "cell_type": "markdown",
   "id": "18045938",
   "metadata": {},
   "source": [
    "## Next Steps\n",
    "\n",
    "Now you can:\n",
    "1. Load MuJoCo models from XML files\n",
    "2. Run simulations\n",
    "3. Visualize results with matplotlib\n",
    "4. Access all the examples in the `/workspace/examples/` directory\n",
    "\n",
    "The MuJoCo environment is fully configured with OSMesa for headless rendering!"
   ]
  }
 ],
 "metadata": {
  "language_info": {
   "name": "python"
  }
 },
 "nbformat": 4,
 "nbformat_minor": 5
}
